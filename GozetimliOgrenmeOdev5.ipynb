{
 "cells": [
  {
   "cell_type": "markdown",
   "id": "humanitarian-orange",
   "metadata": {},
   "source": [
    "## Using the XGBoost algorithm by reusing the data set you used in your second project, create regression and classification models and determine the most appropriate parameter values for this model. Compare with the models in your projects."
   ]
  },
  {
   "cell_type": "markdown",
   "id": "entertaining-caribbean",
   "metadata": {},
   "source": [
    "https://github.com/ekyerli/GD_VB_Week8/blob/main/ML_Project.ipynb projemde kullandığım zaman GradientBoostingRegressor 0.9243757374760967 score verirken XGBRegressor 0.8893303599275385 verdi. En düşük score ise DecisionTreeRegressor sahip 0.7475023249972974 ile."
   ]
  },
  {
   "cell_type": "markdown",
   "id": "bulgarian-projector",
   "metadata": {},
   "source": [
    "## List the key difference between Gradient Boosting and XGBoost\n",
    "\n"
   ]
  },
  {
   "cell_type": "markdown",
   "id": "comprehensive-driving",
   "metadata": {},
   "source": [
    "Hem xgb hem de gbm, gradyan artırma ilkesini takip eder. Bununla birlikte, modelleme detaylarında fark vardır. Spesifik olarak, xgboost, daha iyi performans sağlayan aşırı öğrenmeyi kontrol etmek için daha düzenli bir model kullanır.\n",
    "\n",
    "xgboost, uygulamanın farklı bölümlerinde hız ve bellek kullanımında büyük fark yaratan bir dizi önemli performans geliştirmesi yapılmış bir algoritmadır."
   ]
  },
  {
   "cell_type": "markdown",
   "id": "tired-chain",
   "metadata": {},
   "source": [
    "## Assume that after running XGBoost, you use get_score, how do you interpret the result based on importance_type?\n",
    "\n"
   ]
  },
  {
   "cell_type": "markdown",
   "id": "happy-charger",
   "metadata": {},
   "source": [
    "score'a en çok katkı sağlayan değerleri görmemize sağlıyor. Feature importance ne kadar yüksekse score'a katkısı o kadar fazladır."
   ]
  },
  {
   "cell_type": "code",
   "execution_count": null,
   "id": "female-tuition",
   "metadata": {},
   "outputs": [],
   "source": []
  }
 ],
 "metadata": {
  "kernelspec": {
   "display_name": "Python 3",
   "language": "python",
   "name": "python3"
  },
  "language_info": {
   "codemirror_mode": {
    "name": "ipython",
    "version": 3
   },
   "file_extension": ".py",
   "mimetype": "text/x-python",
   "name": "python",
   "nbconvert_exporter": "python",
   "pygments_lexer": "ipython3",
   "version": "3.9.5"
  }
 },
 "nbformat": 4,
 "nbformat_minor": 5
}

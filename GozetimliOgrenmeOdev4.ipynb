{
 "cells": [
  {
   "cell_type": "markdown",
   "id": "beginning-emperor",
   "metadata": {},
   "source": [
    "I have already tried this method in my project, you can find the links below.\n",
    "\n",
    "    https://github.com/ekyerli/GD_VB_Week4/blob/main/EDA_Project.ipynb\n",
    "    https://github.com/ekyerli/GD_VB_Week8/blob/main/ML_Project.ipynb"
   ]
  },
  {
   "cell_type": "markdown",
   "id": "operational-novel",
   "metadata": {},
   "source": [
    "## In SVR, what is the effect of using different ϵ on bias and variance?\n",
    "Regresyon modeli oluşturulurken kullanılan destek vektörlerinin sayısını etkiler. Büyük epsilon değeri için daha fazla destek vektörü seçilir "
   ]
  },
  {
   "cell_type": "markdown",
   "id": "unlikely-danish",
   "metadata": {},
   "source": [
    "## Assume that you trained an SVM classifier with an poly kernel. It seems to underfit the training set. Then, what should be your next move? Should you increase or decrease γ? What about C?"
   ]
  },
  {
   "cell_type": "markdown",
   "id": "concerned-scenario",
   "metadata": {},
   "source": [
    "Birini sabit tutuyorum ve önce diğerini artırıyorum. Daha sonra diğerini arttırırım."
   ]
  }
 ],
 "metadata": {
  "kernelspec": {
   "display_name": "Python 3",
   "language": "python",
   "name": "python3"
  },
  "language_info": {
   "codemirror_mode": {
    "name": "ipython",
    "version": 3
   },
   "file_extension": ".py",
   "mimetype": "text/x-python",
   "name": "python",
   "nbconvert_exporter": "python",
   "pygments_lexer": "ipython3",
   "version": "3.9.5"
  }
 },
 "nbformat": 4,
 "nbformat_minor": 5
}

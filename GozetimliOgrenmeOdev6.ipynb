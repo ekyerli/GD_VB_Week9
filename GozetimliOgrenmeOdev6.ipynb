{
 "cells": [
  {
   "cell_type": "markdown",
   "id": "bacterial-courage",
   "metadata": {},
   "source": [
    "##  Using regression and classification models using the Light GBM algorithm by reusing the data set you use in the second project regression project and determine the most appropriate parameter values for this model. Compare with the models in your projects."
   ]
  },
  {
   "cell_type": "markdown",
   "id": "general-charity",
   "metadata": {},
   "source": [
    "https://github.com/ekyerli/GD_VB_Week8/blob/main/ML_Project.ipynb projemde kullandığım zaman GradientBoostingRegressor 0.9243757374760967 score verirken Light GBM 0.8864787572373042 verdi. En düşük score ise DecisionTreeRegressor sahip 0.7475023249972974 ile."
   ]
  },
  {
   "cell_type": "markdown",
   "id": "golden-medicaid",
   "metadata": {},
   "source": [
    "## Which parameters can be used for faster algorithms in Ligth GBM?\n",
    "\n"
   ]
  },
  {
   "cell_type": "markdown",
   "id": "consistent-divide",
   "metadata": {},
   "source": [
    "    max_depth : Bu değeri düşürmek hızı arttır.\n",
    "\n",
    "    min_data_in_leaf : Bu değeri düşürmek hızı arttır.\n",
    "\n",
    "    learning_rate : Bu değeri düşürmek hızı arttır.\n",
    "\n",
    "    min_child_weight : Bu değeri düşürmek hızı arttır.\n",
    "    \n",
    "    bagging_fraction : Bu değeri düşürmek hızı arttır.\n"
   ]
  },
  {
   "cell_type": "markdown",
   "id": "exposed-freeze",
   "metadata": {},
   "source": [
    "## Which parameters can be used for better accuracy in Ligth GBM?"
   ]
  },
  {
   "cell_type": "markdown",
   "id": "accepting-cooperation",
   "metadata": {},
   "source": [
    "    Num_leaves,\n",
    "    Min_data_in_leaf,\n",
    "    Max_depth"
   ]
  }
 ],
 "metadata": {
  "kernelspec": {
   "display_name": "Python 3",
   "language": "python",
   "name": "python3"
  },
  "language_info": {
   "codemirror_mode": {
    "name": "ipython",
    "version": 3
   },
   "file_extension": ".py",
   "mimetype": "text/x-python",
   "name": "python",
   "nbconvert_exporter": "python",
   "pygments_lexer": "ipython3",
   "version": "3.9.5"
  }
 },
 "nbformat": 4,
 "nbformat_minor": 5
}
